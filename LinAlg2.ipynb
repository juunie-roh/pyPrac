{
  "nbformat": 4,
  "nbformat_minor": 0,
  "metadata": {
    "colab": {
      "name": "LinAlg2.ipynb",
      "provenance": [],
      "authorship_tag": "ABX9TyPE/iFkYdWcYBnq6eyLcoOK",
      "include_colab_link": true
    },
    "kernelspec": {
      "name": "python3",
      "display_name": "Python 3"
    },
    "language_info": {
      "name": "python"
    }
  },
  "cells": [
    {
      "cell_type": "markdown",
      "metadata": {
        "id": "view-in-github",
        "colab_type": "text"
      },
      "source": [
        "<a href=\"https://colab.research.google.com/github/juunie-roh/pyPrac/blob/main/LinAlg2.ipynb\" target=\"_parent\"><img src=\"https://colab.research.google.com/assets/colab-badge.svg\" alt=\"Open In Colab\"/></a>"
      ]
    },
    {
      "cell_type": "markdown",
      "metadata": {
        "id": "Z62ikSwFL9Y9"
      },
      "source": [
        "# Matrix in Numpy\n",
        "----"
      ]
    },
    {
      "cell_type": "code",
      "metadata": {
        "id": "AuoP5o_K80X3"
      },
      "source": [
        "import numpy as np"
      ],
      "execution_count": 1,
      "outputs": []
    },
    {
      "cell_type": "markdown",
      "metadata": {
        "id": "CKBeZXZbMGer"
      },
      "source": [
        "## Dimensions of matrix"
      ]
    },
    {
      "cell_type": "code",
      "metadata": {
        "colab": {
          "base_uri": "https://localhost:8080/"
        },
        "id": "NBf0GaWy-rgQ",
        "outputId": "872dcea8-ad5b-4bcb-c3a0-50b54b8c4fc9"
      },
      "source": [
        "A = np.array([[0, 1, -2.3, 0.1], [1.3, 4, -0.1, 0], [4.1, -1.0, 0, 1.7]])\n",
        "A.shape"
      ],
      "execution_count": 2,
      "outputs": [
        {
          "output_type": "execute_result",
          "data": {
            "text/plain": [
              "(3, 4)"
            ]
          },
          "metadata": {},
          "execution_count": 2
        }
      ]
    },
    {
      "cell_type": "code",
      "metadata": {
        "colab": {
          "base_uri": "https://localhost:8080/"
        },
        "id": "zWS5-j95--HZ",
        "outputId": "4e06b404-4cb1-4154-fabf-c247506355bf"
      },
      "source": [
        "m, n = A.shape\n",
        "print('m: ', m)\n",
        "print('n: ', n)"
      ],
      "execution_count": 3,
      "outputs": [
        {
          "output_type": "stream",
          "name": "stdout",
          "text": [
            "m:  3\n",
            "n:  4\n"
          ]
        }
      ]
    },
    {
      "cell_type": "code",
      "metadata": {
        "colab": {
          "base_uri": "https://localhost:8080/"
        },
        "id": "1CQ6qDyG_j2s",
        "outputId": "d98673f2-4a60-43f4-c230-745ce4472aae"
      },
      "source": [
        "tall = lambda X: X.shape[0] > X.shape[1]\n",
        "tall(A)"
      ],
      "execution_count": 4,
      "outputs": [
        {
          "output_type": "execute_result",
          "data": {
            "text/plain": [
              "False"
            ]
          },
          "metadata": {},
          "execution_count": 4
        }
      ]
    },
    {
      "cell_type": "code",
      "metadata": {
        "colab": {
          "base_uri": "https://localhost:8080/"
        },
        "id": "aO5Um5PJ_oam",
        "outputId": "ce51b753-138b-441e-c578-aaa422a3cc65"
      },
      "source": [
        "wide = lambda X: X.shape[0] < X.shape[1]\n",
        "wide(A)"
      ],
      "execution_count": 5,
      "outputs": [
        {
          "output_type": "execute_result",
          "data": {
            "text/plain": [
              "True"
            ]
          },
          "metadata": {},
          "execution_count": 5
        }
      ]
    },
    {
      "cell_type": "code",
      "metadata": {
        "colab": {
          "base_uri": "https://localhost:8080/"
        },
        "id": "evjuXYV_AQMl",
        "outputId": "6a7d9f76-a9c8-463f-a595-452721f3c13e"
      },
      "source": [
        "print('m: ', len(A))\n",
        "print('n: ', len(A[0]))"
      ],
      "execution_count": 6,
      "outputs": [
        {
          "output_type": "stream",
          "name": "stdout",
          "text": [
            "m:  3\n",
            "n:  4\n"
          ]
        }
      ]
    },
    {
      "cell_type": "code",
      "metadata": {
        "colab": {
          "base_uri": "https://localhost:8080/"
        },
        "id": "rv9vtkIDAr9S",
        "outputId": "fee4123b-6fb9-4313-ef3c-a7a2fbad1eb3"
      },
      "source": [
        "A[0, 2]"
      ],
      "execution_count": 7,
      "outputs": [
        {
          "output_type": "execute_result",
          "data": {
            "text/plain": [
              "-2.3"
            ]
          },
          "metadata": {},
          "execution_count": 7
        }
      ]
    },
    {
      "cell_type": "markdown",
      "metadata": {
        "id": "kkOYJPrOMNEk"
      },
      "source": [
        "## Replacing elements of matrix"
      ]
    },
    {
      "cell_type": "code",
      "metadata": {
        "colab": {
          "base_uri": "https://localhost:8080/"
        },
        "id": "oqPKWpyMAuvU",
        "outputId": "2cbc4bf1-d9ee-4367-9e4b-650b416ea488"
      },
      "source": [
        "A[0, 2] = 7.5\n",
        "A"
      ],
      "execution_count": 8,
      "outputs": [
        {
          "output_type": "execute_result",
          "data": {
            "text/plain": [
              "array([[ 0. ,  1. ,  7.5,  0.1],\n",
              "       [ 1.3,  4. , -0.1,  0. ],\n",
              "       [ 4.1, -1. ,  0. ,  1.7]])"
            ]
          },
          "metadata": {},
          "execution_count": 8
        }
      ]
    },
    {
      "cell_type": "code",
      "metadata": {
        "colab": {
          "base_uri": "https://localhost:8080/"
        },
        "id": "3oDLBSD3A5PA",
        "outputId": "8ac42220-a92c-4a04-ee2d-ca942d3208c0"
      },
      "source": [
        "B = A.copy()\n",
        "print(A == B)\n",
        "print(np.sum(A == B))"
      ],
      "execution_count": 9,
      "outputs": [
        {
          "output_type": "stream",
          "name": "stdout",
          "text": [
            "[[ True  True  True  True]\n",
            " [ True  True  True  True]\n",
            " [ True  True  True  True]]\n",
            "12\n"
          ]
        }
      ]
    },
    {
      "cell_type": "code",
      "metadata": {
        "colab": {
          "base_uri": "https://localhost:8080/"
        },
        "id": "OwVbE98RBDhM",
        "outputId": "94614395-4907-4913-af99-52605918935c"
      },
      "source": [
        "B[0, 3] = 100\n",
        "np.sum(A == B)"
      ],
      "execution_count": 10,
      "outputs": [
        {
          "output_type": "execute_result",
          "data": {
            "text/plain": [
              "11"
            ]
          },
          "metadata": {},
          "execution_count": 10
        }
      ]
    },
    {
      "cell_type": "code",
      "metadata": {
        "colab": {
          "base_uri": "https://localhost:8080/"
        },
        "id": "UgSSTTvyBHce",
        "outputId": "f1f4dbe2-fffe-4c94-a8ba-720978c85b36"
      },
      "source": [
        "A = [[0, 1, -2.3, 0.1], [1.3, 4, -0.1, 0], [4.1, -1.0, 0, 1.7]]\n",
        "B = [[0, 1, -2.3, 100], [1.3, 4, -0.1, 0], [4.1, -1.0, 0, 1.7]]\n",
        "A == B"
      ],
      "execution_count": 11,
      "outputs": [
        {
          "output_type": "execute_result",
          "data": {
            "text/plain": [
              "False"
            ]
          },
          "metadata": {},
          "execution_count": 11
        }
      ]
    },
    {
      "cell_type": "code",
      "metadata": {
        "colab": {
          "base_uri": "https://localhost:8080/"
        },
        "id": "L9T_BJ3vBc0a",
        "outputId": "1d75e528-f7ec-4872-dc62-fd8bd411352a"
      },
      "source": [
        "a = np.array([-2.1, -3, 0])\n",
        "a.shape"
      ],
      "execution_count": 12,
      "outputs": [
        {
          "output_type": "execute_result",
          "data": {
            "text/plain": [
              "(3,)"
            ]
          },
          "metadata": {},
          "execution_count": 12
        }
      ]
    },
    {
      "cell_type": "code",
      "metadata": {
        "colab": {
          "base_uri": "https://localhost:8080/"
        },
        "id": "0itwUIC3Bqeo",
        "outputId": "f878f1b4-6906-4366-8f9d-5f40fcc02196"
      },
      "source": [
        "b = np.array([[-2.1], [-3], [0]])\n",
        "b.shape"
      ],
      "execution_count": 13,
      "outputs": [
        {
          "output_type": "execute_result",
          "data": {
            "text/plain": [
              "(3, 1)"
            ]
          },
          "metadata": {},
          "execution_count": 13
        }
      ]
    },
    {
      "cell_type": "code",
      "metadata": {
        "colab": {
          "base_uri": "https://localhost:8080/"
        },
        "id": "2yLfM6XOBxe6",
        "outputId": "91d40872-f544-4b87-9141-05e21e683fdb"
      },
      "source": [
        "c = np.array([[-2.1, -3, 0]])\n",
        "c.shape"
      ],
      "execution_count": 14,
      "outputs": [
        {
          "output_type": "execute_result",
          "data": {
            "text/plain": [
              "(1, 3)"
            ]
          },
          "metadata": {},
          "execution_count": 14
        }
      ]
    },
    {
      "cell_type": "markdown",
      "metadata": {
        "id": "xyI764_7MRdD"
      },
      "source": [
        "## Slicing matrix"
      ]
    },
    {
      "cell_type": "code",
      "metadata": {
        "colab": {
          "base_uri": "https://localhost:8080/"
        },
        "id": "JvtX13c9CsO6",
        "outputId": "a24642b4-2f84-43a1-a85c-6699f5f4c663"
      },
      "source": [
        "A = np.array([[-1, 0, 1, 0], [2, -3, 0, 1], [0, 4, -2, 1]])\n",
        "A[0: 2, 2: 4]"
      ],
      "execution_count": 15,
      "outputs": [
        {
          "output_type": "execute_result",
          "data": {
            "text/plain": [
              "array([[1, 0],\n",
              "       [0, 1]])"
            ]
          },
          "metadata": {},
          "execution_count": 15
        }
      ]
    },
    {
      "cell_type": "code",
      "metadata": {
        "colab": {
          "base_uri": "https://localhost:8080/"
        },
        "id": "NprqKtbaDCmd",
        "outputId": "df504daa-1783-4848-b659-0fdfbe6f5aa9"
      },
      "source": [
        "A[:, 2]"
      ],
      "execution_count": 16,
      "outputs": [
        {
          "output_type": "execute_result",
          "data": {
            "text/plain": [
              "array([ 1,  0, -2])"
            ]
          },
          "metadata": {},
          "execution_count": 16
        }
      ]
    },
    {
      "cell_type": "code",
      "metadata": {
        "colab": {
          "base_uri": "https://localhost:8080/"
        },
        "id": "-LntLkLjDjgm",
        "outputId": "c520bcfa-3f99-4068-b26c-febc7ff1c6d0"
      },
      "source": [
        "A[1, :]"
      ],
      "execution_count": 17,
      "outputs": [
        {
          "output_type": "execute_result",
          "data": {
            "text/plain": [
              "array([ 2, -3,  0,  1])"
            ]
          },
          "metadata": {},
          "execution_count": 17
        }
      ]
    },
    {
      "cell_type": "markdown",
      "metadata": {
        "id": "G_EbscoHMUMl"
      },
      "source": [
        "## Reshaping matrix"
      ]
    },
    {
      "cell_type": "code",
      "metadata": {
        "colab": {
          "base_uri": "https://localhost:8080/"
        },
        "id": "dUetYXvjEI44",
        "outputId": "886adc31-bb9b-45d4-b60a-80f9aaed536e"
      },
      "source": [
        "A.reshape((6, 2))"
      ],
      "execution_count": 18,
      "outputs": [
        {
          "output_type": "execute_result",
          "data": {
            "text/plain": [
              "array([[-1,  0],\n",
              "       [ 1,  0],\n",
              "       [ 2, -3],\n",
              "       [ 0,  1],\n",
              "       [ 0,  4],\n",
              "       [-2,  1]])"
            ]
          },
          "metadata": {},
          "execution_count": 18
        }
      ]
    },
    {
      "cell_type": "code",
      "metadata": {
        "colab": {
          "base_uri": "https://localhost:8080/"
        },
        "id": "wXZtboriExHu",
        "outputId": "7c2d7b6c-510a-4e89-988e-7b56e758ecfb"
      },
      "source": [
        "A.reshape((4, 3))"
      ],
      "execution_count": 19,
      "outputs": [
        {
          "output_type": "execute_result",
          "data": {
            "text/plain": [
              "array([[-1,  0,  1],\n",
              "       [ 0,  2, -3],\n",
              "       [ 0,  1,  0],\n",
              "       [ 4, -2,  1]])"
            ]
          },
          "metadata": {},
          "execution_count": 19
        }
      ]
    },
    {
      "cell_type": "code",
      "metadata": {
        "colab": {
          "base_uri": "https://localhost:8080/"
        },
        "id": "657pKjQOFUlN",
        "outputId": "168a605d-451a-43e9-9e25-4ad55c692717"
      },
      "source": [
        "B = np.array([0, 2, 3])\n",
        "C = np.array([-1])\n",
        "D = np.array([[2, 2, 1], [1, 3, 5]])\n",
        "E = np.array([[4], [4]])\n",
        "A = np.block([[B, C], [D, E]])\n",
        "A"
      ],
      "execution_count": 20,
      "outputs": [
        {
          "output_type": "execute_result",
          "data": {
            "text/plain": [
              "array([[ 0,  2,  3, -1],\n",
              "       [ 2,  2,  1,  4],\n",
              "       [ 1,  3,  5,  4]])"
            ]
          },
          "metadata": {},
          "execution_count": 20
        }
      ]
    },
    {
      "cell_type": "markdown",
      "metadata": {
        "id": "2N_-J2rnMW-M"
      },
      "source": [
        "## Vertical Stack & Horizontal Stack"
      ]
    },
    {
      "cell_type": "code",
      "metadata": {
        "colab": {
          "base_uri": "https://localhost:8080/"
        },
        "id": "8L-8VWXBFwNi",
        "outputId": "5df6d5b6-4e8f-4dc0-c504-52fb5e140d7f"
      },
      "source": [
        "a = [1, 2]\n",
        "b = [4, 5]\n",
        "c = [7, 8]\n",
        "A = np.vstack([a, b, c])\n",
        "B = np.hstack([a, b, c])\n",
        "print(\"matrix A: \", A)\n",
        "print(\"dimensions of A: \", A.shape)\n",
        "print(\"matrix B: \", B)\n",
        "print(\"dimensions of B: \", B.shape)"
      ],
      "execution_count": 21,
      "outputs": [
        {
          "output_type": "stream",
          "name": "stdout",
          "text": [
            "matrix A:  [[1 2]\n",
            " [4 5]\n",
            " [7 8]]\n",
            "dimensions of A:  (3, 2)\n",
            "matrix B:  [1 2 4 5 7 8]\n",
            "dimensions of B:  (6,)\n"
          ]
        }
      ]
    },
    {
      "cell_type": "code",
      "metadata": {
        "colab": {
          "base_uri": "https://localhost:8080/"
        },
        "id": "3jO8JI6AG8D8",
        "outputId": "f09adeb6-1cfc-4e85-df12-67a5ac952f66"
      },
      "source": [
        "a = [[1],[2]]\n",
        "b = [[4],[5]]\n",
        "c = [[7],[8]]\n",
        "A = np.vstack([a, b, c])\n",
        "B = np.hstack([a, b, c])\n",
        "print(\"matrix A: \", A)\n",
        "print(\"matrix B: \", B)"
      ],
      "execution_count": 22,
      "outputs": [
        {
          "output_type": "stream",
          "name": "stdout",
          "text": [
            "matrix A:  [[1]\n",
            " [2]\n",
            " [4]\n",
            " [5]\n",
            " [7]\n",
            " [8]]\n",
            "matrix B:  [[1 4 7]\n",
            " [2 5 8]]\n"
          ]
        }
      ]
    },
    {
      "cell_type": "markdown",
      "metadata": {
        "id": "UWUcOPsbMbFN"
      },
      "source": [
        "## Adding Column & Row"
      ]
    },
    {
      "cell_type": "code",
      "metadata": {
        "colab": {
          "base_uri": "https://localhost:8080/"
        },
        "id": "WVm3CnKAHeTX",
        "outputId": "946baf53-6964-45fc-dd5d-c3cc08e0336d"
      },
      "source": [
        "np.c_[-np.identity(3), np.zeros(3)]"
      ],
      "execution_count": 23,
      "outputs": [
        {
          "output_type": "execute_result",
          "data": {
            "text/plain": [
              "array([[-1., -0., -0.,  0.],\n",
              "       [-0., -1., -0.,  0.],\n",
              "       [-0., -0., -1.,  0.]])"
            ]
          },
          "metadata": {},
          "execution_count": 23
        }
      ]
    },
    {
      "cell_type": "code",
      "metadata": {
        "colab": {
          "base_uri": "https://localhost:8080/"
        },
        "id": "ZNTqdrabHvUS",
        "outputId": "9be1f68f-349d-4958-83ac-3c70267a70cf"
      },
      "source": [
        "np.r_[np.identity(3), np.zeros((1, 3))]"
      ],
      "execution_count": 24,
      "outputs": [
        {
          "output_type": "execute_result",
          "data": {
            "text/plain": [
              "array([[1., 0., 0.],\n",
              "       [0., 1., 0.],\n",
              "       [0., 0., 1.],\n",
              "       [0., 0., 0.]])"
            ]
          },
          "metadata": {},
          "execution_count": 24
        }
      ]
    },
    {
      "cell_type": "code",
      "metadata": {
        "colab": {
          "base_uri": "https://localhost:8080/"
        },
        "id": "bRpVxYkCH1mm",
        "outputId": "07a7adfa-1f06-4b34-cc8e-06b819e61550"
      },
      "source": [
        "np.zeros((2, 2))"
      ],
      "execution_count": 25,
      "outputs": [
        {
          "output_type": "execute_result",
          "data": {
            "text/plain": [
              "array([[0., 0.],\n",
              "       [0., 0.]])"
            ]
          },
          "metadata": {},
          "execution_count": 25
        }
      ]
    },
    {
      "cell_type": "markdown",
      "metadata": {
        "id": "0gu3qKLhMwaT"
      },
      "source": [
        "## Diagonalization"
      ]
    },
    {
      "cell_type": "code",
      "metadata": {
        "colab": {
          "base_uri": "https://localhost:8080/"
        },
        "id": "Bt9Kib-fH4Fg",
        "outputId": "8558f8a8-cc03-48ab-988f-51d9f1851216"
      },
      "source": [
        "x = np.array([[0, 1, 2],\n",
        "              [3, 4, 5],\n",
        "              [6, 7, 8]])\n",
        "print(np.diag(x))"
      ],
      "execution_count": 26,
      "outputs": [
        {
          "output_type": "stream",
          "name": "stdout",
          "text": [
            "[0 4 8]\n"
          ]
        }
      ]
    },
    {
      "cell_type": "code",
      "metadata": {
        "colab": {
          "base_uri": "https://localhost:8080/"
        },
        "id": "r9qCWzYNInAc",
        "outputId": "14fa46d8-220e-4a95-a896-76e2c7f59e92"
      },
      "source": [
        "print(np.diag(np.diag(x)))"
      ],
      "execution_count": 27,
      "outputs": [
        {
          "output_type": "stream",
          "name": "stdout",
          "text": [
            "[[0 0 0]\n",
            " [0 4 0]\n",
            " [0 0 8]]\n"
          ]
        }
      ]
    },
    {
      "cell_type": "markdown",
      "metadata": {
        "id": "yyAUlQ9_M0O2"
      },
      "source": [
        "## Random Matrix"
      ]
    },
    {
      "cell_type": "code",
      "metadata": {
        "colab": {
          "base_uri": "https://localhost:8080/"
        },
        "id": "ZvgUn0fnI05V",
        "outputId": "ae02b394-7618-4c84-ad6f-210347634ebb"
      },
      "source": [
        "np.random.random((2, 3))"
      ],
      "execution_count": 28,
      "outputs": [
        {
          "output_type": "execute_result",
          "data": {
            "text/plain": [
              "array([[0.45638913, 0.62722825, 0.10982853],\n",
              "       [0.41333892, 0.03327233, 0.30588676]])"
            ]
          },
          "metadata": {},
          "execution_count": 28
        }
      ]
    },
    {
      "cell_type": "code",
      "metadata": {
        "colab": {
          "base_uri": "https://localhost:8080/"
        },
        "id": "2lU4-30fI5Yl",
        "outputId": "a6a96d9a-d47d-4ac7-9e09-555b55cb55bf"
      },
      "source": [
        "np.random.randn(3, 2)"
      ],
      "execution_count": 29,
      "outputs": [
        {
          "output_type": "execute_result",
          "data": {
            "text/plain": [
              "array([[ 0.36511652, -0.37140613],\n",
              "       [ 0.62150012,  1.11649451],\n",
              "       [ 0.73656907,  0.70370195]])"
            ]
          },
          "metadata": {},
          "execution_count": 29
        }
      ]
    },
    {
      "cell_type": "markdown",
      "metadata": {
        "id": "ZXh07lSsM2ig"
      },
      "source": [
        "## Sparse Matrix"
      ]
    },
    {
      "cell_type": "code",
      "metadata": {
        "colab": {
          "base_uri": "https://localhost:8080/"
        },
        "id": "O4A9z8B-I7Kd",
        "outputId": "6d614926-2d46-4a8b-fcab-1d2a8f040ec9"
      },
      "source": [
        "from scipy import sparse\n",
        "I = np.array([0, 1, 1, 0, 2, 3])\n",
        "J = np.array([0, 0, 1, 2, 2, 3])\n",
        "V = np.array([-1.11, 0.15, -0.10, 1.17, -0.30, 0.13])\n",
        "A = sparse.coo_matrix((V, (I, J)), shape = (4, 5))\n",
        "A"
      ],
      "execution_count": 30,
      "outputs": [
        {
          "output_type": "execute_result",
          "data": {
            "text/plain": [
              "<4x5 sparse matrix of type '<class 'numpy.float64'>'\n",
              "\twith 6 stored elements in COOrdinate format>"
            ]
          },
          "metadata": {},
          "execution_count": 30
        }
      ]
    },
    {
      "cell_type": "code",
      "metadata": {
        "colab": {
          "base_uri": "https://localhost:8080/"
        },
        "id": "OtS5BtzxJuEg",
        "outputId": "2af47ad6-51d4-4248-81bd-f0d6900724d7"
      },
      "source": [
        "A.nnz"
      ],
      "execution_count": 31,
      "outputs": [
        {
          "output_type": "execute_result",
          "data": {
            "text/plain": [
              "6"
            ]
          },
          "metadata": {},
          "execution_count": 31
        }
      ]
    },
    {
      "cell_type": "code",
      "metadata": {
        "colab": {
          "base_uri": "https://localhost:8080/"
        },
        "id": "vlQh9teIJv0G",
        "outputId": "bc97aa6c-4a4c-43ba-e647-20759453ede2"
      },
      "source": [
        "A.todense()"
      ],
      "execution_count": 32,
      "outputs": [
        {
          "output_type": "execute_result",
          "data": {
            "text/plain": [
              "matrix([[-1.11,  0.  ,  1.17,  0.  ,  0.  ],\n",
              "        [ 0.15, -0.1 ,  0.  ,  0.  ,  0.  ],\n",
              "        [ 0.  ,  0.  , -0.3 ,  0.  ,  0.  ],\n",
              "        [ 0.  ,  0.  ,  0.  ,  0.13,  0.  ]])"
            ]
          },
          "metadata": {},
          "execution_count": 32
        }
      ]
    },
    {
      "cell_type": "markdown",
      "metadata": {
        "id": "GowUl1neLDVF"
      },
      "source": [
        "## Transpose, addition and norm\n"
      ]
    },
    {
      "cell_type": "code",
      "metadata": {
        "colab": {
          "base_uri": "https://localhost:8080/"
        },
        "id": "6Y6D4uesJxHc",
        "outputId": "9653a68d-7243-4528-a4bb-080ef93616c4"
      },
      "source": [
        "H = np.array([[0, 1, -2, 1], [2, -1, 3, 0]])\n",
        "H.T"
      ],
      "execution_count": 33,
      "outputs": [
        {
          "output_type": "execute_result",
          "data": {
            "text/plain": [
              "array([[ 0,  2],\n",
              "       [ 1, -1],\n",
              "       [-2,  3],\n",
              "       [ 1,  0]])"
            ]
          },
          "metadata": {},
          "execution_count": 33
        }
      ]
    },
    {
      "cell_type": "code",
      "metadata": {
        "colab": {
          "base_uri": "https://localhost:8080/"
        },
        "id": "JOU331IgK8mo",
        "outputId": "d0fb8b52-495f-45f9-f0c2-0e7db2a2e3b8"
      },
      "source": [
        "np.transpose(H)"
      ],
      "execution_count": 34,
      "outputs": [
        {
          "output_type": "execute_result",
          "data": {
            "text/plain": [
              "array([[ 0,  2],\n",
              "       [ 1, -1],\n",
              "       [-2,  3],\n",
              "       [ 1,  0]])"
            ]
          },
          "metadata": {},
          "execution_count": 34
        }
      ]
    },
    {
      "cell_type": "code",
      "metadata": {
        "colab": {
          "base_uri": "https://localhost:8080/"
        },
        "id": "BN2baKuTK_kU",
        "outputId": "3ebcfef4-bbc3-46e3-cfb4-259e4bbdc52c"
      },
      "source": [
        "U = np.array([[0, 4], [7, 0], [3, 1]])\n",
        "V = np.array([[1, 2], [2, 3], [0, 4]])\n",
        "U + V"
      ],
      "execution_count": 35,
      "outputs": [
        {
          "output_type": "execute_result",
          "data": {
            "text/plain": [
              "array([[1, 6],\n",
              "       [9, 3],\n",
              "       [3, 5]])"
            ]
          },
          "metadata": {},
          "execution_count": 35
        }
      ]
    },
    {
      "cell_type": "code",
      "metadata": {
        "colab": {
          "base_uri": "https://localhost:8080/"
        },
        "id": "V6xb1m0SLT2l",
        "outputId": "1739537a-8a09-4ec6-e20a-3861239e46d9"
      },
      "source": [
        "2.2 * U"
      ],
      "execution_count": 36,
      "outputs": [
        {
          "output_type": "execute_result",
          "data": {
            "text/plain": [
              "array([[ 0. ,  8.8],\n",
              "       [15.4,  0. ],\n",
              "       [ 6.6,  2.2]])"
            ]
          },
          "metadata": {},
          "execution_count": 36
        }
      ]
    },
    {
      "cell_type": "code",
      "metadata": {
        "colab": {
          "base_uri": "https://localhost:8080/"
        },
        "id": "jGeIXG37LVU-",
        "outputId": "4c3626ab-28be-4484-c0e5-6fd9abc42bdb"
      },
      "source": [
        "A = np.array([[2, 3, -1], [0, -1, 4]])\n",
        "np.linalg.norm(A)"
      ],
      "execution_count": 37,
      "outputs": [
        {
          "output_type": "execute_result",
          "data": {
            "text/plain": [
              "5.5677643628300215"
            ]
          },
          "metadata": {},
          "execution_count": 37
        }
      ]
    },
    {
      "cell_type": "code",
      "metadata": {
        "colab": {
          "base_uri": "https://localhost:8080/"
        },
        "id": "BkzFH-7qLcPZ",
        "outputId": "a1373880-bb0f-4c52-d28b-d1d4953a037f"
      },
      "source": [
        "np.linalg.norm(A[:])"
      ],
      "execution_count": 38,
      "outputs": [
        {
          "output_type": "execute_result",
          "data": {
            "text/plain": [
              "5.5677643628300215"
            ]
          },
          "metadata": {},
          "execution_count": 38
        }
      ]
    },
    {
      "cell_type": "markdown",
      "metadata": {
        "id": "IDe8h57ALlAV"
      },
      "source": [
        "## Matrix-vector multiplication"
      ]
    },
    {
      "cell_type": "code",
      "metadata": {
        "colab": {
          "base_uri": "https://localhost:8080/"
        },
        "id": "YkxnMjQtLeou",
        "outputId": "487e84b8-f52a-4664-f978-c95967ec6db7"
      },
      "source": [
        "A = np.array([[0, 2, -1], [-2, 1, 1]])\n",
        "x = np.array([2, 1, -1])\n",
        "A @ x"
      ],
      "execution_count": 39,
      "outputs": [
        {
          "output_type": "execute_result",
          "data": {
            "text/plain": [
              "array([ 3, -4])"
            ]
          },
          "metadata": {},
          "execution_count": 39
        }
      ]
    },
    {
      "cell_type": "code",
      "metadata": {
        "colab": {
          "base_uri": "https://localhost:8080/"
        },
        "id": "YlIbPOPgL1fl",
        "outputId": "96bddbbf-351a-4f64-d641-2cd00f9aee8a"
      },
      "source": [
        "np.matmul(A, x)"
      ],
      "execution_count": 40,
      "outputs": [
        {
          "output_type": "execute_result",
          "data": {
            "text/plain": [
              "array([ 3, -4])"
            ]
          },
          "metadata": {},
          "execution_count": 40
        }
      ]
    },
    {
      "cell_type": "markdown",
      "metadata": {
        "id": "q6kuCVdyNUsL"
      },
      "source": [
        "# Matrix Examples\n",
        "----\n",
        "## Geomatric transformations"
      ]
    },
    {
      "cell_type": "code",
      "metadata": {
        "colab": {
          "base_uri": "https://localhost:8080/"
        },
        "id": "oS58ufVoNCFl",
        "outputId": "412c94e5-4e4c-4ec8-c4f5-81106337226d"
      },
      "source": [
        "Rot = lambda theta: [[np.cos(theta), -np.sin(theta)],\n",
        "                     [np.sin(theta), np.cos(theta)]]\n",
        "R = Rot(np.pi/3)\n",
        "R"
      ],
      "execution_count": 41,
      "outputs": [
        {
          "output_type": "execute_result",
          "data": {
            "text/plain": [
              "[[0.5000000000000001, -0.8660254037844386],\n",
              " [0.8660254037844386, 0.5000000000000001]]"
            ]
          },
          "metadata": {},
          "execution_count": 41
        }
      ]
    },
    {
      "cell_type": "code",
      "metadata": {
        "colab": {
          "base_uri": "https://localhost:8080/",
          "height": 265
        },
        "id": "ccmwuX5kNosb",
        "outputId": "4a33df0f-45bf-4b5b-94b7-457ffb294c6f"
      },
      "source": [
        "points = np.array([[1, 0], [1.5, 0], [1, 0.25], [1.5, 0.25], [1, 0.5]])\n",
        "rpoints = np.array([R @ p for p in points])\n",
        "import matplotlib.pyplot as plt\n",
        "plt.ion()\n",
        "plt.scatter([c[0] for c in points], [c[1] for c in points])\n",
        "plt.scatter([c[0] for c in rpoints], [c[1] for c in rpoints])\n",
        "plt.show()"
      ],
      "execution_count": 42,
      "outputs": [
        {
          "output_type": "display_data",
          "data": {
            "image/png": "[encoded data removed]",
            "text/plain": [
              "<Figure size 432x288 with 1 Axes>"
            ]
          },
          "metadata": {
            "needs_background": "light"
          }
        }
      ]
    },
    {
      "cell_type": "code",
      "metadata": {
        "id": "P-BErQUDOMtO"
      },
      "source": [
        ""
      ],
      "execution_count": null,
      "outputs": []
    }
  ]
}